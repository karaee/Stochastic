{
 "cells": [
  {
   "cell_type": "code",
   "execution_count": null,
   "metadata": {},
   "outputs": [],
   "source": [
    "################################################\n",
    "###########     Farmer's problem      ##########\n",
    "################################################\n",
    "# In this R-script you can find a sample code for solving\n",
    "# the farmer's problem introduced in the textbook by Louveaux and Birge.\n",
    "# We will solve the deterministic problem and the stochastic problem\n",
    "# The latter using the large-scale deterministic equivalent problem and\n",
    "# using a basic L-shaped method.\n",
    "# To implement these algorithms we need an LP solver. Here we use lpSolve (a package from R).\n",
    "# It is not as good as Cplex or GUROBI, but the package is easy to install and does not require a license\n",
    "\n",
    "# NOTE: This code is work-in-progress. If you find any errors, or have suggestions for improvement,\n",
    "#.      Please let me know.\n",
    "\n",
    "\n",
    "# Install the package lpSolve\n",
    "################################################\n",
    "############    lpSolve Example      ############\n",
    "################################################\n",
    "# Below we show how to use lpSolve to solve a simple LP problem:\n",
    "# max x1 + x2 + 2*x3 : x1 + 2x2 + 3x3 <= 4 and x1 + x2 >= 1 "
   ]
  },
  {
   "cell_type": "code",
   "execution_count": null,
   "metadata": {},
   "outputs": [],
   "source": [
    "# FOR THE FIRST TIME\n",
    "install.packages('lpSolve')"
   ]
  },
  {
   "cell_type": "code",
   "execution_count": null,
   "metadata": {},
   "outputs": [],
   "source": [
    "# Load the lpSolve package\n",
    "library('lpSolve')"
   ]
  },
  {
   "cell_type": "code",
   "execution_count": null,
   "metadata": {},
   "outputs": [],
   "source": [
    "# create a \"model\" (=list containing all model characteristics)\n",
    "model <- list()"
   ]
  },
  {
   "cell_type": "code",
   "execution_count": null,
   "metadata": {},
   "outputs": [],
   "source": [
    "# Specify all coefficients/characteristic of the model\n",
    "#### max cx: Ax <= b\n",
    "#### It is possible to specify whether you are maximizing/minimizing\n",
    "#### whether inequalities are >=, <=\n",
    "#### and types of the variables. Continuous variables are always \">= 0\"."
   ]
  },
  {
   "cell_type": "code",
   "execution_count": null,
   "metadata": {},
   "outputs": [],
   "source": [
    "model$A          <- matrix(c(1,2,3,1,1,0), nrow=2, ncol=3, byrow=T)\n",
    "model$obj        <- c(1,1,2)\n",
    "model$modelsense <- \"max\"\n",
    "model$rhs        <- c(4,1)\n",
    "model$sense      <- c(\"<=\", '>=')\n",
    "\n"
   ]
  },
  {
   "cell_type": "code",
   "execution_count": null,
   "metadata": {},
   "outputs": [],
   "source": [
    "result <- lp(model$modelsense, model$obj, model$A, model$sense, model$rhs)\n",
    "\n",
    "# Print the solution:\n",
    "print('Solution:')\n",
    "print(result$objval)\n",
    "print(result$solution)"
   ]
  },
  {
   "cell_type": "code",
   "execution_count": null,
   "metadata": {},
   "outputs": [],
   "source": [
    "#####################################################\n",
    "########## Deterministic Farmer's Problem  #########\n",
    "#####################################################\n",
    "### Here we solve the deterministic farmer's problem\n",
    "### Notice that we already use SP notation, where x\n",
    "### are first-stage variables, (y,w) second-stage variables\n",
    "### with unit cost vectors c and q.\n",
    "### A, b correspond to first-stage constraints, W and h and the\n",
    "### technology matrix T (=Tech) to second-stage constraints\n",
    "\n",
    "# For my convenience, I make all second-stage inequalities '>='\n",
    "# Check for yourself that all matrices of coefficients etc. are correct"
   ]
  },
  {
   "cell_type": "code",
   "execution_count": null,
   "metadata": {},
   "outputs": [],
   "source": [
    "library('lpSolve')\n",
    "\n",
    "A    <- matrix(c(1,1,1),nrow = 1)\n",
    "Tech <- rbind(diag(c(2.5,3,20)),matrix(rep(0,3),nrow=1))\n",
    "W    <- matrix(c(c(1,-1,0,0,0,0),c(0,0,1,-1,0,0),c(0,0,0,0,-1,-1),c(0,0,0,0,-1,0)),nrow = 4,byrow=T)\n",
    "b    <- 500 \n",
    "c    <- c(150,230,260)\n",
    "q    <- c(238,-170,210,-150,-36,-10)\n",
    "h    <- c(200,240,0,-6000)"
   ]
  },
  {
   "cell_type": "code",
   "execution_count": null,
   "metadata": {},
   "outputs": [],
   "source": [
    "FP <- list()\n",
    "\n",
    "FP$A          <- cbind(rbind(A,Tech),rbind(matrix(rep(0,dim(A)[1]*dim(W)[2]),nrow=dim(A)[1]),W))\n",
    "FP$obj        <- c(c,q)\n",
    "FP$modelsense <- \"min\"\n",
    "FP$rhs        <- c(b,h)\n",
    "FP$sense      <- c('<=','>=','>=','>=','>=')\n",
    "FP$vtype      <- 'C'"
   ]
  },
  {
   "cell_type": "code",
   "execution_count": null,
   "metadata": {},
   "outputs": [],
   "source": [
    "result <- lp(FP$modelsense, FP$obj, FP$A, FP$sense, FP$rhs)\n",
    "\n",
    "print('Solution:')\n",
    "print(result$objval)\n",
    "print(result$solution)\n",
    "#print(result)"
   ]
  },
  {
   "cell_type": "code",
   "execution_count": null,
   "metadata": {},
   "outputs": [],
   "source": [
    "###################################################################\n",
    "############# Stochastic Farmer's Problem #########################\n",
    "###################################################################\n",
    "# Next we solve a stochastic farmer's problem where we have 3 possible\n",
    "# values for the yield. We solve this problem using the large-scale\n",
    "# deterministic equivalent problem. We set up the code in such a way that\n",
    "# it can also be used to solve the LSDE of an SAA (sample average approximation)."
   ]
  },
  {
   "cell_type": "code",
   "execution_count": null,
   "metadata": {},
   "outputs": [],
   "source": [
    "library('lpSolve')\n",
    "\n",
    "# This function creates zero-matrices of size m x n\n",
    "zeros <- function(m,n){\n",
    "\tZ <- matrix(rep(0,n*m),nrow=m)\n",
    "\treturn(Z)\n",
    "}"
   ]
  },
  {
   "cell_type": "code",
   "execution_count": null,
   "metadata": {},
   "outputs": [],
   "source": [
    "# Here, there are three options for specifying the distribution of the \"yield\" xi (or rather %dev of\n",
    "# avg yield).\n",
    "# The first is with three scenarios xi = 0.8, 1, 1.2; all with probability 1/3.\n",
    "# The second is by drawing a sample of S scenarios from the distribution of xi (As an example we \n",
    "# assume that xi is uniformly distributed on [0.8,1.2])\n",
    "# The third is the same as the second, but uses Latin Hypercube Sampling instead of Monte Carlo sampling\n",
    "\n",
    "# S  = number of scenarios\n",
    "# p  = \"vector of probabilities\"\n",
    "# xi = \"vector of realizations\""
   ]
  },
  {
   "cell_type": "code",
   "execution_count": null,
   "metadata": {},
   "outputs": [],
   "source": [
    "# Option 1\n",
    "S <- 3\n",
    "p <- rep(1/S,S)\n",
    "xi <- c(0.8,1,1.2)"
   ]
  },
  {
   "cell_type": "code",
   "execution_count": null,
   "metadata": {},
   "outputs": [],
   "source": [
    "# Option 2; My computer can handle S = 1000;  S=10000 is already (too) difficult\n",
    "# Uncomment to use this option:\n",
    "#S <- 1000\n",
    "#p <- rep(1/S,S)\n",
    "#xi <- runif(S, min = 0.8, max = 1.2)    # If you use sampling; try running your algorithm/code twice\n",
    "                                        # and check if the solution values, and objective change\n",
    "                                        # and by how much."
   ]
  },
  {
   "cell_type": "code",
   "execution_count": null,
   "metadata": {},
   "outputs": [],
   "source": [
    "# Option 3; My computer can handle S = 1000;  S=10000 is already (too) difficult\n",
    "# Uncomment to use this option:\n",
    "#library('DiceDesign')\n",
    "#S <- 1000\n",
    "#p <- rep(1/S,S)\n",
    "#xi <- lhsDesign(S,1,randomized=TRUE)$design*0.4+0.8    #lhsDesign creates \"random numbers\" \n",
    "                                                           # (between 0 and 1). You need to apply the inverse\n",
    "                                                           # transform (F^{-1}) to these numbers. In our\n",
    "                                                           # example this means *0.4 and +0.8 to get a \n",
    "                                                           # uniform distribution on [0.8, 1.2]   "
   ]
  },
  {
   "cell_type": "code",
   "execution_count": null,
   "metadata": {},
   "outputs": [],
   "source": [
    "# In this example there is only uncertainty in the technology matrix T. In fact, using T from the \n",
    "# deterministic setting and a realization xi[i]. The technolgy matrix in scenario i equals xi[i]*T\n",
    "# For other problems/case study, the dependence of h,T,q on xi/omega may be \"more difficult\""
   ]
  },
  {
   "cell_type": "code",
   "execution_count": null,
   "metadata": {},
   "outputs": [],
   "source": [
    "# This is the \"average/nominal\" technology matrix\n",
    "Tech <- rbind(diag(c(2.5,3,20)),matrix(rep(0,3),nrow=1))"
   ]
  },
  {
   "cell_type": "code",
   "execution_count": null,
   "metadata": {},
   "outputs": [],
   "source": [
    "A    <- matrix(c(1,1,1),nrow = 1)\n",
    "W    <- matrix(c(c(1,-1,0,0,0,0),c(0,0,1,-1,0,0),c(0,0,0,0,-1,-1),c(0,0,0,0,-1,0)),nrow = 4,byrow=T)\n",
    "b    <- 500 \n",
    "c    <- c(150,230,260)\n",
    "q    <- c(238,-170,210,-150,-36,-10)\n",
    "h    <- c(200,240,0,-6000)"
   ]
  },
  {
   "cell_type": "code",
   "execution_count": null,
   "metadata": {},
   "outputs": [],
   "source": [
    "# Dimension of the problem: m = \"number of constraints\"; n = \"number of variables; 1st and 2nd stage\n",
    "m1 <- dim(A)[1]\n",
    "m2 <- dim(W)[1]\n",
    "n1 <- dim(A)[2]\n",
    "n2 <- dim(W)[2]"
   ]
  },
  {
   "cell_type": "code",
   "execution_count": null,
   "metadata": {},
   "outputs": [],
   "source": [
    "# What remains is to create the matrix of coefficients for this large-scale problem\n",
    "# It has the form (if there are 4 scenarios):\n",
    "#. ( A   0  0  0  0 )\n",
    "#. ( T1  W  0  0  0 )\n",
    "#. ( T2  0  W  0  0 )\n",
    "#. ( T3  0  0  W  0 )\n",
    "#. ( T4  0  0  0  W )"
   ]
  },
  {
   "cell_type": "code",
   "execution_count": null,
   "metadata": {},
   "outputs": [],
   "source": [
    "# Verify that the following lines of code gives the above matrix; If you forgot what \n",
    "# the kronecker product of two matrices is: Google it! or enter ?kronecker\n",
    "# Also notice that kronecker(xi,Tech) works here because T1 = xi[1]*Tech"
   ]
  },
  {
   "cell_type": "code",
   "execution_count": null,
   "metadata": {},
   "outputs": [],
   "source": [
    "Z  <- zeros(m1,n2*S)\n",
    "LSDE.A <- cbind(A,Z)\n",
    "LSDE.A <- rbind(LSDE.A,cbind(kronecker(xi,Tech),kronecker(diag(rep(1,S)),W)))"
   ]
  },
  {
   "cell_type": "code",
   "execution_count": null,
   "metadata": {},
   "outputs": [],
   "source": [
    "# Construct the other parameters/coefficients.\n",
    "# Notice the use of the \"rep\" function, because for all scenarios, right-hand sides and objectives \n",
    "# are the same/similar"
   ]
  },
  {
   "cell_type": "code",
   "execution_count": null,
   "metadata": {},
   "outputs": [],
   "source": [
    "FP <- list()\n",
    "\n",
    "FP$A          <- LSDE.A\n",
    "FP$obj        <- c(c,p*rep(q,S))\n",
    "FP$modelsense <- \"min\"\n",
    "FP$rhs        <- c(b,rep(h,S))\n",
    "FP$sense      <- c('<=',rep(c('>=','>=','>=','>='),S))"
   ]
  },
  {
   "cell_type": "code",
   "execution_count": null,
   "metadata": {},
   "outputs": [],
   "source": [
    "result <- lp(FP$modelsense, FP$obj, FP$A, FP$sense, FP$rhs)\n",
    "\n",
    "print('Solution:')\n",
    "print(result$objval)\n",
    "print(result$solution[1:3])  #only prints first-stage solutions"
   ]
  },
  {
   "cell_type": "code",
   "execution_count": null,
   "metadata": {},
   "outputs": [],
   "source": [
    "#############################################################################\n",
    "################## L-shaped algorithm #######################################\n",
    "#############################################################################\n",
    "# Below is a basic L-shaped algorithm for solving the same \n",
    "# Stochastic Farmer's problem"
   ]
  },
  {
   "cell_type": "code",
   "execution_count": null,
   "metadata": {},
   "outputs": [],
   "source": [
    "# Initialization (= the same as for LSDE)\n",
    "library('lpSolve')"
   ]
  },
  {
   "cell_type": "code",
   "execution_count": null,
   "metadata": {},
   "outputs": [],
   "source": [
    "zeros <- function(m,n){\n",
    "\tZ <- matrix(rep(0,n*m),nrow=m)\n",
    "\treturn(Z)\n",
    "}\n"
   ]
  },
  {
   "cell_type": "code",
   "execution_count": null,
   "metadata": {},
   "outputs": [],
   "source": [
    "# Option 1\n",
    "S <- 3\n",
    "p <- rep(1/S,S)\n",
    "xi <- c(0.8,1,1.2)"
   ]
  },
  {
   "cell_type": "code",
   "execution_count": null,
   "metadata": {},
   "outputs": [],
   "source": [
    "# Option 2; My computer can handle S = 10000 and even 100000 (It might take a while);\n",
    "# This is already more than you typically need in practice\n",
    "# Uncomment to use this option:\n",
    "#S <- 1000\n",
    "#p <- rep(1/S,S)\n",
    "#xi <- runif(S, min = 0.8, max = 1.2)        "
   ]
  },
  {
   "cell_type": "code",
   "execution_count": null,
   "metadata": {},
   "outputs": [],
   "source": [
    "# Option 3; My computer can handle S = 10000 and even 100000 (It might take a while);\n",
    "# This is already more than you typically need in practice\n",
    "# Uncomment to use this option:\n",
    "#library('DiceDesign')\n",
    "#S <- 1000\n",
    "#p <- rep(1/S,S)\n",
    "#xi <- lhsDesign(S,1,randomized=TRUE)$design*0.4+0.8      "
   ]
  },
  {
   "cell_type": "code",
   "execution_count": null,
   "metadata": {},
   "outputs": [],
   "source": [
    "Tech <- rbind(diag(c(2.5,3,20)),matrix(rep(0,3),nrow=1))\n",
    "\n",
    "A    <- matrix(c(1,1,1),nrow = 1)\n",
    "W    <- matrix(c(c(1,-1,0,0,0,0),c(0,0,1,-1,0,0),c(0,0,0,0,-1,-1),c(0,0,0,0,-1,0)),nrow = 4,byrow=T)\n",
    "b    <- 500 \n",
    "c    <- c(150,230,260)\n",
    "q    <- c(238,-170,210,-150,-36,-10)\n",
    "h    <- c(200,240,0,-6000)\n",
    "\n",
    "m1 <- dim(A)[1]\n",
    "m2 <- dim(W)[1]\n",
    "n1 <- dim(A)[2]\n",
    "n2 <- dim(W)[2]"
   ]
  },
  {
   "cell_type": "code",
   "execution_count": null,
   "metadata": {},
   "outputs": [],
   "source": [
    "# Create master problem of the form min cx + theta^+ - theta^-: Ax <= b\n",
    "# Remember: all continuous variables are non-negative!\n",
    "# Later we will add optimality cuts of the form theta^+-theta^- >= a*x+b\n",
    "# We set a lower bound on theta = theta^+ - thetat^-  -> upper bound on theta^-"
   ]
  },
  {
   "cell_type": "code",
   "execution_count": null,
   "metadata": {},
   "outputs": [],
   "source": [
    "Master <- list()\n",
    "\n",
    "Master$A <- cbind(A,zeros(m1,2))\n",
    "Master$A <- rbind(Master$A,c(rep(0,n1+1),1))\n",
    "Master$obj        <- c(c,1,-1)\n",
    "Master$modelsense <- \"min\"\n",
    "Master$rhs        <- c(b,10**10) \n",
    "Master$sense      <- c('<=','<=')"
   ]
  },
  {
   "cell_type": "code",
   "execution_count": null,
   "metadata": {},
   "outputs": [],
   "source": [
    "# Solve the master problem\n",
    "\n",
    "Master.result <- lp(Master$modelsense, Master$obj, Master$A, Master$sense, Master$rhs)\n",
    "\n",
    "print('Solution:')\n",
    "print(Master.result$objval)\n",
    "print(Master.result$solution)   # Not surprising the first time we solve the master problem x = 0"
   ]
  },
  {
   "cell_type": "code",
   "execution_count": null,
   "metadata": {},
   "outputs": [],
   "source": [
    "# let current.x denote the current first-stage solution:\n",
    "current.x <- Master.result$solution[1:n1]"
   ]
  },
  {
   "cell_type": "code",
   "execution_count": null,
   "metadata": {},
   "outputs": [],
   "source": [
    "# Next initalize the subproblem(s). We will use the same subproblem iteratively\n",
    "# since only the rhs of these subproblems change. They are given by:\n",
    "# v(h-T[i]x) = min qy: Wy >= h-T[i]x\n",
    "# Since lpSolve does not provide dual solutions, we solve the dual of v:\n",
    "# Dual problem: max lambda^T(h-T[i]x): W^T lambda <= q^T"
   ]
  },
  {
   "cell_type": "code",
   "execution_count": null,
   "metadata": {},
   "outputs": [],
   "source": [
    "Sub <- list()\n",
    "Sub$A          <- t(W)\n",
    "Sub$obj        <- h - xi[1]*(Tech %*% current.x)\n",
    "Sub$modelsense <- \"max\"\n",
    "Sub$rhs        <- q\n",
    "Sub$sense      <- rep('<=',n2)"
   ]
  },
  {
   "cell_type": "code",
   "execution_count": null,
   "metadata": {},
   "outputs": [],
   "source": [
    "# In the following repeat loop, we iteratively solve the subproblems, add optimality cuts\n",
    "# and solve the master problem until the optimality criterion is met.\n",
    "# We keep track of the number of iterations. I've set the max equal to 1000. You can change that \n",
    "# of course."
   ]
  },
  {
   "cell_type": "code",
   "execution_count": null,
   "metadata": {},
   "outputs": [],
   "source": [
    "it = 0\n",
    "repeat{\n",
    "\n",
    "\tcurrent.x <- Master.result$solution[1:n1]\n",
    "\t\n",
    "\t# At each iteration we need to determine Q(x) and a subgradient u of Q at x,\n",
    "\t# where x is the current first-stage solution.\n",
    "\t# The objective value of the subproblem equals v(h-T[i]x)\n",
    "\t# -> Q(x) = sum p[i]v(h-T[i]x)\n",
    "\t# The dual solution lambda[i,x] is a subgradient of v\n",
    "\t# Then, u := -sum p[i]*lambda[i,x]*T[i] is the subgradient of Q at x:\n",
    "\t# -> Q(x) >= Q(x.current) + u*(x-x.current)      <=>\n",
    "\t# Optimality cut: theta^+-theta^- - u*x >= Q(x.current) - u*x.current\n",
    "\t\n",
    "\tQ <- 0\n",
    "\tu <- 0\n",
    "\t\n",
    "\t# We have to calculate T[i]x several times, which is equal to xi[i]*Tech %*% x\n",
    "\t# Hence, calculate Tx = Tech %*% x here\n",
    "\t\n",
    "\t# Observe that u can for this example also be calculated using\n",
    "\t# u := (-sum p[i]*lambda[i,x]*xi[i])*Tech\n",
    "\t\n",
    "\tTx <- Tech %*% current.x \n",
    "\n",
    "\tfor(i in 1:S){\n",
    "\t\tSub$obj <- h - xi[i]*Tx\n",
    "\t\tSub.result <- lp(Sub$modelsense, Sub$obj, Sub$A, Sub$sense, Sub$rhs)\n",
    "\t\tQ <- Q + p[i]*Sub.result$objval\n",
    "    \tu <- u - p[i]*xi[i]*Sub.result$solution \n",
    "\t}\n",
    "\t\n",
    "\t# Calculate u:\n",
    "\tu <- u %*% Tech\n",
    "\t\n",
    "\t# Stopping criterion. Here I have selected \"epsilon\" = 10**-5. \t\n",
    "\tif(c %*% current.x+Q < Master.result$objval + 10**-5){\n",
    "\t\tbreak\n",
    "\t}\n",
    "\t\n",
    "\t# Add optimality cut and resolve the master problem\n",
    "\tMaster$A     <- rbind(Master$A,c(-u,1,-1))\n",
    "\tMaster$rhs   <- c(Master$rhs,Q-u %*% current.x)\n",
    "\tMaster$sense <- c(Master$sense,'>=') \n",
    "\tMaster.result <- lp(Master$modelsense, Master$obj, Master$A, Master$sense, Master$rhs)\n",
    "\n",
    "\tprint('Iteration:')\n",
    "\tprint(it)\n",
    "\tprint('Objective value current solution')\n",
    "\tprint(c %*% current.x+Q)\n",
    "\tprint('Solution:')\n",
    "\tprint(Master.result$objval)\n",
    "\tprint(Master.result$solution)\n",
    "\tflush.console()\n",
    "\t\n",
    "\tit <- it + 1\n",
    "\tif(it > 1000){\n",
    "\t\tbreak\n",
    "    }\n",
    "}\t"
   ]
  },
  {
   "cell_type": "code",
   "execution_count": null,
   "metadata": {},
   "outputs": [],
   "source": [
    "# print the solution \n",
    "print('Solution:')\n",
    "print(Master.result$objval)\n",
    "print(Master.result$solution[1:3]) "
   ]
  }
 ],
 "metadata": {
  "kernelspec": {
   "display_name": "R",
   "language": "R",
   "name": "ir"
  },
  "language_info": {
   "codemirror_mode": "r",
   "file_extension": ".r",
   "mimetype": "text/x-r-source",
   "name": "R",
   "pygments_lexer": "r",
   "version": "3.6.1"
  }
 },
 "nbformat": 4,
 "nbformat_minor": 4
}
